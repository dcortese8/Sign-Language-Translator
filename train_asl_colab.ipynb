{
  "nbformat": 4,
  "nbformat_minor": 0,
  "metadata": {
    "colab": {
      "provenance": [],
      "authorship_tag": "ABX9TyO5RSKWY5ErE+9oca4cuoYG",
      "include_colab_link": true
    },
    "kernelspec": {
      "name": "python3",
      "display_name": "Python 3"
    },
    "language_info": {
      "name": "python"
    }
  },
  "cells": [
    {
      "cell_type": "markdown",
      "metadata": {
        "id": "view-in-github",
        "colab_type": "text"
      },
      "source": [
        "<a href=\"https://colab.research.google.com/github/dcortese8/Sign-Language-Translator/blob/main/train_asl_colab.ipynb\" target=\"_parent\"><img src=\"https://colab.research.google.com/assets/colab-badge.svg\" alt=\"Open In Colab\"/></a>"
      ]
    },
    {
      "cell_type": "code",
      "execution_count": 1,
      "metadata": {
        "colab": {
          "base_uri": "https://localhost:8080/"
        },
        "id": "QrubOZeliCND",
        "outputId": "b4503e5f-2e58-4146-c5d1-d3bedbed57a9"
      },
      "outputs": [
        {
          "output_type": "stream",
          "name": "stdout",
          "text": [
            "Cloning into 'Sign-Language-Translator'...\n",
            "remote: Enumerating objects: 251, done.\u001b[K\n",
            "remote: Counting objects: 100% (79/79), done.\u001b[K\n",
            "remote: Compressing objects: 100% (60/60), done.\u001b[K\n",
            "remote: Total 251 (delta 41), reused 50 (delta 17), pack-reused 172\u001b[K\n",
            "Receiving objects: 100% (251/251), 97.50 MiB | 18.04 MiB/s, done.\n",
            "Resolving deltas: 100% (96/96), done.\n",
            "/content/Sign-Language-Translator/train\n"
          ]
        }
      ],
      "source": [
        "!git clone https://github.com/dcortese8/Sign-Language-Translator.git\n",
        "%cd Sign-Language-Translator/train"
      ]
    },
    {
      "cell_type": "code",
      "source": [
        "from zipfile import ZipFile\n",
        "from google.colab import drive\n",
        "\n",
        "drive.mount('/content/gdrive')\n",
        "\n",
        "file_name = '/content/gdrive/MyDrive/videos.zip'\n",
        "\n",
        "with ZipFile(file_name, 'r') as zipfile:\n",
        "  zipfile.extractall()\n",
        "  print('Done')"
      ],
      "metadata": {
        "colab": {
          "base_uri": "https://localhost:8080/"
        },
        "id": "BZjXkg6FqpL-",
        "outputId": "b078fa8a-3f8a-412e-bd8b-f0255f1bee86"
      },
      "execution_count": 2,
      "outputs": [
        {
          "output_type": "stream",
          "name": "stdout",
          "text": [
            "Mounted at /content/gdrive\n",
            "Done\n"
          ]
        }
      ]
    },
    {
      "cell_type": "code",
      "source": [
        "!pip install tensorflow\n",
        "!pip install tf-models-official"
      ],
      "metadata": {
        "colab": {
          "base_uri": "https://localhost:8080/"
        },
        "id": "bKBLs1otmsg9",
        "outputId": "1776440d-fd86-4bba-ac58-8a73efeef229"
      },
      "execution_count": 3,
      "outputs": [
        {
          "output_type": "stream",
          "name": "stdout",
          "text": [
            "Looking in indexes: https://pypi.org/simple, https://us-python.pkg.dev/colab-wheels/public/simple/\n",
            "Requirement already satisfied: tensorflow in /usr/local/lib/python3.8/dist-packages (2.9.2)\n",
            "Requirement already satisfied: astunparse>=1.6.0 in /usr/local/lib/python3.8/dist-packages (from tensorflow) (1.6.3)\n",
            "Requirement already satisfied: termcolor>=1.1.0 in /usr/local/lib/python3.8/dist-packages (from tensorflow) (2.1.1)\n",
            "Requirement already satisfied: keras-preprocessing>=1.1.1 in /usr/local/lib/python3.8/dist-packages (from tensorflow) (1.1.2)\n",
            "Requirement already satisfied: tensorflow-io-gcs-filesystem>=0.23.1 in /usr/local/lib/python3.8/dist-packages (from tensorflow) (0.28.0)\n",
            "Requirement already satisfied: flatbuffers<2,>=1.12 in /usr/local/lib/python3.8/dist-packages (from tensorflow) (1.12)\n",
            "Requirement already satisfied: libclang>=13.0.0 in /usr/local/lib/python3.8/dist-packages (from tensorflow) (14.0.6)\n",
            "Requirement already satisfied: grpcio<2.0,>=1.24.3 in /usr/local/lib/python3.8/dist-packages (from tensorflow) (1.51.1)\n",
            "Requirement already satisfied: tensorboard<2.10,>=2.9 in /usr/local/lib/python3.8/dist-packages (from tensorflow) (2.9.1)\n",
            "Requirement already satisfied: typing-extensions>=3.6.6 in /usr/local/lib/python3.8/dist-packages (from tensorflow) (4.4.0)\n",
            "Requirement already satisfied: wrapt>=1.11.0 in /usr/local/lib/python3.8/dist-packages (from tensorflow) (1.14.1)\n",
            "Requirement already satisfied: opt-einsum>=2.3.2 in /usr/local/lib/python3.8/dist-packages (from tensorflow) (3.3.0)\n",
            "Requirement already satisfied: keras<2.10.0,>=2.9.0rc0 in /usr/local/lib/python3.8/dist-packages (from tensorflow) (2.9.0)\n",
            "Requirement already satisfied: packaging in /usr/local/lib/python3.8/dist-packages (from tensorflow) (21.3)\n",
            "Requirement already satisfied: setuptools in /usr/local/lib/python3.8/dist-packages (from tensorflow) (57.4.0)\n",
            "Requirement already satisfied: numpy>=1.20 in /usr/local/lib/python3.8/dist-packages (from tensorflow) (1.21.6)\n",
            "Requirement already satisfied: h5py>=2.9.0 in /usr/local/lib/python3.8/dist-packages (from tensorflow) (3.1.0)\n",
            "Requirement already satisfied: six>=1.12.0 in /usr/local/lib/python3.8/dist-packages (from tensorflow) (1.15.0)\n",
            "Requirement already satisfied: absl-py>=1.0.0 in /usr/local/lib/python3.8/dist-packages (from tensorflow) (1.3.0)\n",
            "Requirement already satisfied: protobuf<3.20,>=3.9.2 in /usr/local/lib/python3.8/dist-packages (from tensorflow) (3.19.6)\n",
            "Requirement already satisfied: gast<=0.4.0,>=0.2.1 in /usr/local/lib/python3.8/dist-packages (from tensorflow) (0.4.0)\n",
            "Requirement already satisfied: tensorflow-estimator<2.10.0,>=2.9.0rc0 in /usr/local/lib/python3.8/dist-packages (from tensorflow) (2.9.0)\n",
            "Requirement already satisfied: google-pasta>=0.1.1 in /usr/local/lib/python3.8/dist-packages (from tensorflow) (0.2.0)\n",
            "Requirement already satisfied: wheel<1.0,>=0.23.0 in /usr/local/lib/python3.8/dist-packages (from astunparse>=1.6.0->tensorflow) (0.38.4)\n",
            "Requirement already satisfied: requests<3,>=2.21.0 in /usr/local/lib/python3.8/dist-packages (from tensorboard<2.10,>=2.9->tensorflow) (2.23.0)\n",
            "Requirement already satisfied: google-auth-oauthlib<0.5,>=0.4.1 in /usr/local/lib/python3.8/dist-packages (from tensorboard<2.10,>=2.9->tensorflow) (0.4.6)\n",
            "Requirement already satisfied: markdown>=2.6.8 in /usr/local/lib/python3.8/dist-packages (from tensorboard<2.10,>=2.9->tensorflow) (3.4.1)\n",
            "Requirement already satisfied: werkzeug>=1.0.1 in /usr/local/lib/python3.8/dist-packages (from tensorboard<2.10,>=2.9->tensorflow) (1.0.1)\n",
            "Requirement already satisfied: tensorboard-plugin-wit>=1.6.0 in /usr/local/lib/python3.8/dist-packages (from tensorboard<2.10,>=2.9->tensorflow) (1.8.1)\n",
            "Requirement already satisfied: tensorboard-data-server<0.7.0,>=0.6.0 in /usr/local/lib/python3.8/dist-packages (from tensorboard<2.10,>=2.9->tensorflow) (0.6.1)\n",
            "Requirement already satisfied: google-auth<3,>=1.6.3 in /usr/local/lib/python3.8/dist-packages (from tensorboard<2.10,>=2.9->tensorflow) (2.15.0)\n",
            "Requirement already satisfied: rsa<5,>=3.1.4 in /usr/local/lib/python3.8/dist-packages (from google-auth<3,>=1.6.3->tensorboard<2.10,>=2.9->tensorflow) (4.9)\n",
            "Requirement already satisfied: pyasn1-modules>=0.2.1 in /usr/local/lib/python3.8/dist-packages (from google-auth<3,>=1.6.3->tensorboard<2.10,>=2.9->tensorflow) (0.2.8)\n",
            "Requirement already satisfied: cachetools<6.0,>=2.0.0 in /usr/local/lib/python3.8/dist-packages (from google-auth<3,>=1.6.3->tensorboard<2.10,>=2.9->tensorflow) (5.2.0)\n",
            "Requirement already satisfied: requests-oauthlib>=0.7.0 in /usr/local/lib/python3.8/dist-packages (from google-auth-oauthlib<0.5,>=0.4.1->tensorboard<2.10,>=2.9->tensorflow) (1.3.1)\n",
            "Requirement already satisfied: importlib-metadata>=4.4 in /usr/local/lib/python3.8/dist-packages (from markdown>=2.6.8->tensorboard<2.10,>=2.9->tensorflow) (5.1.0)\n",
            "Requirement already satisfied: zipp>=0.5 in /usr/local/lib/python3.8/dist-packages (from importlib-metadata>=4.4->markdown>=2.6.8->tensorboard<2.10,>=2.9->tensorflow) (3.11.0)\n",
            "Requirement already satisfied: pyasn1<0.5.0,>=0.4.6 in /usr/local/lib/python3.8/dist-packages (from pyasn1-modules>=0.2.1->google-auth<3,>=1.6.3->tensorboard<2.10,>=2.9->tensorflow) (0.4.8)\n",
            "Requirement already satisfied: certifi>=2017.4.17 in /usr/local/lib/python3.8/dist-packages (from requests<3,>=2.21.0->tensorboard<2.10,>=2.9->tensorflow) (2022.12.7)\n",
            "Requirement already satisfied: urllib3!=1.25.0,!=1.25.1,<1.26,>=1.21.1 in /usr/local/lib/python3.8/dist-packages (from requests<3,>=2.21.0->tensorboard<2.10,>=2.9->tensorflow) (1.24.3)\n",
            "Requirement already satisfied: idna<3,>=2.5 in /usr/local/lib/python3.8/dist-packages (from requests<3,>=2.21.0->tensorboard<2.10,>=2.9->tensorflow) (2.10)\n",
            "Requirement already satisfied: chardet<4,>=3.0.2 in /usr/local/lib/python3.8/dist-packages (from requests<3,>=2.21.0->tensorboard<2.10,>=2.9->tensorflow) (3.0.4)\n",
            "Requirement already satisfied: oauthlib>=3.0.0 in /usr/local/lib/python3.8/dist-packages (from requests-oauthlib>=0.7.0->google-auth-oauthlib<0.5,>=0.4.1->tensorboard<2.10,>=2.9->tensorflow) (3.2.2)\n",
            "Requirement already satisfied: pyparsing!=3.0.5,>=2.0.2 in /usr/local/lib/python3.8/dist-packages (from packaging->tensorflow) (3.0.9)\n",
            "Looking in indexes: https://pypi.org/simple, https://us-python.pkg.dev/colab-wheels/public/simple/\n",
            "Collecting tf-models-official\n",
            "  Downloading tf_models_official-2.11.2-py2.py3-none-any.whl (2.3 MB)\n",
            "\u001b[K     |████████████████████████████████| 2.3 MB 13.1 MB/s \n",
            "\u001b[?25hRequirement already satisfied: matplotlib in /usr/local/lib/python3.8/dist-packages (from tf-models-official) (3.2.2)\n",
            "Collecting tf-slim>=1.1.0\n",
            "  Downloading tf_slim-1.1.0-py2.py3-none-any.whl (352 kB)\n",
            "\u001b[K     |████████████████████████████████| 352 kB 70.6 MB/s \n",
            "\u001b[?25hRequirement already satisfied: pandas>=0.22.0 in /usr/local/lib/python3.8/dist-packages (from tf-models-official) (1.3.5)\n",
            "Requirement already satisfied: Pillow in /usr/local/lib/python3.8/dist-packages (from tf-models-official) (7.1.2)\n",
            "Requirement already satisfied: six in /usr/local/lib/python3.8/dist-packages (from tf-models-official) (1.15.0)\n",
            "Collecting py-cpuinfo>=3.3.0\n",
            "  Downloading py_cpuinfo-9.0.0-py3-none-any.whl (22 kB)\n",
            "Requirement already satisfied: oauth2client in /usr/local/lib/python3.8/dist-packages (from tf-models-official) (4.1.3)\n",
            "Requirement already satisfied: scipy>=0.19.1 in /usr/local/lib/python3.8/dist-packages (from tf-models-official) (1.7.3)\n",
            "Requirement already satisfied: numpy>=1.20 in /usr/local/lib/python3.8/dist-packages (from tf-models-official) (1.21.6)\n",
            "Collecting tensorflow-text~=2.11.0\n",
            "  Downloading tensorflow_text-2.11.0-cp38-cp38-manylinux_2_17_x86_64.manylinux2014_x86_64.whl (5.8 MB)\n",
            "\u001b[K     |████████████████████████████████| 5.8 MB 58.6 MB/s \n",
            "\u001b[?25hRequirement already satisfied: google-api-python-client>=1.6.7 in /usr/local/lib/python3.8/dist-packages (from tf-models-official) (1.12.11)\n",
            "Collecting pyyaml<6.0,>=5.1\n",
            "  Downloading PyYAML-5.4.1-cp38-cp38-manylinux1_x86_64.whl (662 kB)\n",
            "\u001b[K     |████████████████████████████████| 662 kB 69.4 MB/s \n",
            "\u001b[?25hRequirement already satisfied: kaggle>=1.3.9 in /usr/local/lib/python3.8/dist-packages (from tf-models-official) (1.5.12)\n",
            "Requirement already satisfied: Cython in /usr/local/lib/python3.8/dist-packages (from tf-models-official) (0.29.32)\n",
            "Requirement already satisfied: opencv-python-headless in /usr/local/lib/python3.8/dist-packages (from tf-models-official) (4.6.0.66)\n",
            "Requirement already satisfied: pycocotools in /usr/local/lib/python3.8/dist-packages (from tf-models-official) (2.0.6)\n",
            "Requirement already satisfied: tensorflow-hub>=0.6.0 in /usr/local/lib/python3.8/dist-packages (from tf-models-official) (0.12.0)\n",
            "Collecting immutabledict\n",
            "  Downloading immutabledict-2.2.3-py3-none-any.whl (4.0 kB)\n",
            "Collecting sacrebleu\n",
            "  Downloading sacrebleu-2.3.1-py3-none-any.whl (118 kB)\n",
            "\u001b[K     |████████████████████████████████| 118 kB 74.1 MB/s \n",
            "\u001b[?25hCollecting tensorflow-addons\n",
            "  Downloading tensorflow_addons-0.19.0-cp38-cp38-manylinux_2_17_x86_64.manylinux2014_x86_64.whl (1.1 MB)\n",
            "\u001b[K     |████████████████████████████████| 1.1 MB 70.6 MB/s \n",
            "\u001b[?25hRequirement already satisfied: gin-config in /usr/local/lib/python3.8/dist-packages (from tf-models-official) (0.5.0)\n",
            "Requirement already satisfied: tensorflow-datasets in /usr/local/lib/python3.8/dist-packages (from tf-models-official) (4.6.0)\n",
            "Collecting seqeval\n",
            "  Downloading seqeval-1.2.2.tar.gz (43 kB)\n",
            "\u001b[K     |████████████████████████████████| 43 kB 2.4 MB/s \n",
            "\u001b[?25hCollecting tensorflow~=2.11.0\n",
            "  Downloading tensorflow-2.11.0-cp38-cp38-manylinux_2_17_x86_64.manylinux2014_x86_64.whl (588.3 MB)\n",
            "\u001b[K     |████████████████████████████████| 588.3 MB 26 kB/s \n",
            "\u001b[?25hCollecting sentencepiece\n",
            "  Downloading sentencepiece-0.1.97-cp38-cp38-manylinux_2_17_x86_64.manylinux2014_x86_64.whl (1.3 MB)\n",
            "\u001b[K     |████████████████████████████████| 1.3 MB 83.0 MB/s \n",
            "\u001b[?25hRequirement already satisfied: psutil>=5.4.3 in /usr/local/lib/python3.8/dist-packages (from tf-models-official) (5.4.8)\n",
            "Collecting tensorflow-model-optimization>=0.4.1\n",
            "  Downloading tensorflow_model_optimization-0.7.3-py2.py3-none-any.whl (238 kB)\n",
            "\u001b[K     |████████████████████████████████| 238 kB 79.1 MB/s \n",
            "\u001b[?25hRequirement already satisfied: google-api-core<3dev,>=1.21.0 in /usr/local/lib/python3.8/dist-packages (from google-api-python-client>=1.6.7->tf-models-official) (2.8.2)\n",
            "Requirement already satisfied: google-auth-httplib2>=0.0.3 in /usr/local/lib/python3.8/dist-packages (from google-api-python-client>=1.6.7->tf-models-official) (0.0.4)\n",
            "Requirement already satisfied: httplib2<1dev,>=0.15.0 in /usr/local/lib/python3.8/dist-packages (from google-api-python-client>=1.6.7->tf-models-official) (0.17.4)\n",
            "Requirement already satisfied: google-auth<3dev,>=1.16.0 in /usr/local/lib/python3.8/dist-packages (from google-api-python-client>=1.6.7->tf-models-official) (2.15.0)\n",
            "Requirement already satisfied: uritemplate<4dev,>=3.0.0 in /usr/local/lib/python3.8/dist-packages (from google-api-python-client>=1.6.7->tf-models-official) (3.0.1)\n",
            "Requirement already satisfied: requests<3.0.0dev,>=2.18.0 in /usr/local/lib/python3.8/dist-packages (from google-api-core<3dev,>=1.21.0->google-api-python-client>=1.6.7->tf-models-official) (2.23.0)\n",
            "Requirement already satisfied: googleapis-common-protos<2.0dev,>=1.56.2 in /usr/local/lib/python3.8/dist-packages (from google-api-core<3dev,>=1.21.0->google-api-python-client>=1.6.7->tf-models-official) (1.57.0)\n",
            "Requirement already satisfied: protobuf<5.0.0dev,>=3.15.0 in /usr/local/lib/python3.8/dist-packages (from google-api-core<3dev,>=1.21.0->google-api-python-client>=1.6.7->tf-models-official) (3.19.6)\n",
            "Requirement already satisfied: cachetools<6.0,>=2.0.0 in /usr/local/lib/python3.8/dist-packages (from google-auth<3dev,>=1.16.0->google-api-python-client>=1.6.7->tf-models-official) (5.2.0)\n",
            "Requirement already satisfied: rsa<5,>=3.1.4 in /usr/local/lib/python3.8/dist-packages (from google-auth<3dev,>=1.16.0->google-api-python-client>=1.6.7->tf-models-official) (4.9)\n",
            "Requirement already satisfied: pyasn1-modules>=0.2.1 in /usr/local/lib/python3.8/dist-packages (from google-auth<3dev,>=1.16.0->google-api-python-client>=1.6.7->tf-models-official) (0.2.8)\n",
            "Requirement already satisfied: urllib3 in /usr/local/lib/python3.8/dist-packages (from kaggle>=1.3.9->tf-models-official) (1.24.3)\n",
            "Requirement already satisfied: certifi in /usr/local/lib/python3.8/dist-packages (from kaggle>=1.3.9->tf-models-official) (2022.12.7)\n",
            "Requirement already satisfied: python-dateutil in /usr/local/lib/python3.8/dist-packages (from kaggle>=1.3.9->tf-models-official) (2.8.2)\n",
            "Requirement already satisfied: python-slugify in /usr/local/lib/python3.8/dist-packages (from kaggle>=1.3.9->tf-models-official) (7.0.0)\n",
            "Requirement already satisfied: tqdm in /usr/local/lib/python3.8/dist-packages (from kaggle>=1.3.9->tf-models-official) (4.64.1)\n",
            "Requirement already satisfied: pytz>=2017.3 in /usr/local/lib/python3.8/dist-packages (from pandas>=0.22.0->tf-models-official) (2022.6)\n",
            "Requirement already satisfied: pyasn1<0.5.0,>=0.4.6 in /usr/local/lib/python3.8/dist-packages (from pyasn1-modules>=0.2.1->google-auth<3dev,>=1.16.0->google-api-python-client>=1.6.7->tf-models-official) (0.4.8)\n",
            "Requirement already satisfied: idna<3,>=2.5 in /usr/local/lib/python3.8/dist-packages (from requests<3.0.0dev,>=2.18.0->google-api-core<3dev,>=1.21.0->google-api-python-client>=1.6.7->tf-models-official) (2.10)\n",
            "Requirement already satisfied: chardet<4,>=3.0.2 in /usr/local/lib/python3.8/dist-packages (from requests<3.0.0dev,>=2.18.0->google-api-core<3dev,>=1.21.0->google-api-python-client>=1.6.7->tf-models-official) (3.0.4)\n",
            "Collecting tensorboard<2.12,>=2.11\n",
            "  Downloading tensorboard-2.11.0-py3-none-any.whl (6.0 MB)\n",
            "\u001b[K     |████████████████████████████████| 6.0 MB 35.5 MB/s \n",
            "\u001b[?25hCollecting tensorflow-estimator<2.12,>=2.11.0\n",
            "  Downloading tensorflow_estimator-2.11.0-py2.py3-none-any.whl (439 kB)\n",
            "\u001b[K     |████████████████████████████████| 439 kB 76.5 MB/s \n",
            "\u001b[?25hCollecting keras<2.12,>=2.11.0\n",
            "  Downloading keras-2.11.0-py2.py3-none-any.whl (1.7 MB)\n",
            "\u001b[K     |████████████████████████████████| 1.7 MB 39.4 MB/s \n",
            "\u001b[?25hRequirement already satisfied: absl-py>=1.0.0 in /usr/local/lib/python3.8/dist-packages (from tensorflow~=2.11.0->tf-models-official) (1.3.0)\n",
            "Requirement already satisfied: libclang>=13.0.0 in /usr/local/lib/python3.8/dist-packages (from tensorflow~=2.11.0->tf-models-official) (14.0.6)\n",
            "Requirement already satisfied: google-pasta>=0.1.1 in /usr/local/lib/python3.8/dist-packages (from tensorflow~=2.11.0->tf-models-official) (0.2.0)\n",
            "Collecting flatbuffers>=2.0\n",
            "  Downloading flatbuffers-22.12.6-py2.py3-none-any.whl (26 kB)\n",
            "Requirement already satisfied: wrapt>=1.11.0 in /usr/local/lib/python3.8/dist-packages (from tensorflow~=2.11.0->tf-models-official) (1.14.1)\n",
            "Requirement already satisfied: gast<=0.4.0,>=0.2.1 in /usr/local/lib/python3.8/dist-packages (from tensorflow~=2.11.0->tf-models-official) (0.4.0)\n",
            "Requirement already satisfied: setuptools in /usr/local/lib/python3.8/dist-packages (from tensorflow~=2.11.0->tf-models-official) (57.4.0)\n",
            "Requirement already satisfied: h5py>=2.9.0 in /usr/local/lib/python3.8/dist-packages (from tensorflow~=2.11.0->tf-models-official) (3.1.0)\n",
            "Requirement already satisfied: grpcio<2.0,>=1.24.3 in /usr/local/lib/python3.8/dist-packages (from tensorflow~=2.11.0->tf-models-official) (1.51.1)\n",
            "Requirement already satisfied: tensorflow-io-gcs-filesystem>=0.23.1 in /usr/local/lib/python3.8/dist-packages (from tensorflow~=2.11.0->tf-models-official) (0.28.0)\n",
            "Requirement already satisfied: opt-einsum>=2.3.2 in /usr/local/lib/python3.8/dist-packages (from tensorflow~=2.11.0->tf-models-official) (3.3.0)\n",
            "Requirement already satisfied: astunparse>=1.6.0 in /usr/local/lib/python3.8/dist-packages (from tensorflow~=2.11.0->tf-models-official) (1.6.3)\n",
            "Requirement already satisfied: packaging in /usr/local/lib/python3.8/dist-packages (from tensorflow~=2.11.0->tf-models-official) (21.3)\n",
            "Requirement already satisfied: termcolor>=1.1.0 in /usr/local/lib/python3.8/dist-packages (from tensorflow~=2.11.0->tf-models-official) (2.1.1)\n",
            "Requirement already satisfied: typing-extensions>=3.6.6 in /usr/local/lib/python3.8/dist-packages (from tensorflow~=2.11.0->tf-models-official) (4.4.0)\n",
            "Requirement already satisfied: wheel<1.0,>=0.23.0 in /usr/local/lib/python3.8/dist-packages (from astunparse>=1.6.0->tensorflow~=2.11.0->tf-models-official) (0.38.4)\n",
            "Requirement already satisfied: google-auth-oauthlib<0.5,>=0.4.1 in /usr/local/lib/python3.8/dist-packages (from tensorboard<2.12,>=2.11->tensorflow~=2.11.0->tf-models-official) (0.4.6)\n",
            "Requirement already satisfied: tensorboard-plugin-wit>=1.6.0 in /usr/local/lib/python3.8/dist-packages (from tensorboard<2.12,>=2.11->tensorflow~=2.11.0->tf-models-official) (1.8.1)\n",
            "Requirement already satisfied: werkzeug>=1.0.1 in /usr/local/lib/python3.8/dist-packages (from tensorboard<2.12,>=2.11->tensorflow~=2.11.0->tf-models-official) (1.0.1)\n",
            "Requirement already satisfied: markdown>=2.6.8 in /usr/local/lib/python3.8/dist-packages (from tensorboard<2.12,>=2.11->tensorflow~=2.11.0->tf-models-official) (3.4.1)\n",
            "Requirement already satisfied: tensorboard-data-server<0.7.0,>=0.6.0 in /usr/local/lib/python3.8/dist-packages (from tensorboard<2.12,>=2.11->tensorflow~=2.11.0->tf-models-official) (0.6.1)\n",
            "Requirement already satisfied: requests-oauthlib>=0.7.0 in /usr/local/lib/python3.8/dist-packages (from google-auth-oauthlib<0.5,>=0.4.1->tensorboard<2.12,>=2.11->tensorflow~=2.11.0->tf-models-official) (1.3.1)\n",
            "Requirement already satisfied: importlib-metadata>=4.4 in /usr/local/lib/python3.8/dist-packages (from markdown>=2.6.8->tensorboard<2.12,>=2.11->tensorflow~=2.11.0->tf-models-official) (5.1.0)\n",
            "Requirement already satisfied: zipp>=0.5 in /usr/local/lib/python3.8/dist-packages (from importlib-metadata>=4.4->markdown>=2.6.8->tensorboard<2.12,>=2.11->tensorflow~=2.11.0->tf-models-official) (3.11.0)\n",
            "Requirement already satisfied: oauthlib>=3.0.0 in /usr/local/lib/python3.8/dist-packages (from requests-oauthlib>=0.7.0->google-auth-oauthlib<0.5,>=0.4.1->tensorboard<2.12,>=2.11->tensorflow~=2.11.0->tf-models-official) (3.2.2)\n",
            "Requirement already satisfied: dm-tree~=0.1.1 in /usr/local/lib/python3.8/dist-packages (from tensorflow-model-optimization>=0.4.1->tf-models-official) (0.1.7)\n",
            "Requirement already satisfied: cycler>=0.10 in /usr/local/lib/python3.8/dist-packages (from matplotlib->tf-models-official) (0.11.0)\n",
            "Requirement already satisfied: pyparsing!=2.0.4,!=2.1.2,!=2.1.6,>=2.0.1 in /usr/local/lib/python3.8/dist-packages (from matplotlib->tf-models-official) (3.0.9)\n",
            "Requirement already satisfied: kiwisolver>=1.0.1 in /usr/local/lib/python3.8/dist-packages (from matplotlib->tf-models-official) (1.4.4)\n",
            "Requirement already satisfied: text-unidecode>=1.3 in /usr/local/lib/python3.8/dist-packages (from python-slugify->kaggle>=1.3.9->tf-models-official) (1.3)\n",
            "Collecting portalocker\n",
            "  Downloading portalocker-2.6.0-py2.py3-none-any.whl (15 kB)\n",
            "Requirement already satisfied: tabulate>=0.8.9 in /usr/local/lib/python3.8/dist-packages (from sacrebleu->tf-models-official) (0.8.10)\n",
            "Requirement already satisfied: regex in /usr/local/lib/python3.8/dist-packages (from sacrebleu->tf-models-official) (2022.6.2)\n",
            "Collecting colorama\n",
            "  Downloading colorama-0.4.6-py2.py3-none-any.whl (25 kB)\n",
            "Requirement already satisfied: lxml in /usr/local/lib/python3.8/dist-packages (from sacrebleu->tf-models-official) (4.9.2)\n",
            "Requirement already satisfied: scikit-learn>=0.21.3 in /usr/local/lib/python3.8/dist-packages (from seqeval->tf-models-official) (1.0.2)\n",
            "Requirement already satisfied: threadpoolctl>=2.0.0 in /usr/local/lib/python3.8/dist-packages (from scikit-learn>=0.21.3->seqeval->tf-models-official) (3.1.0)\n",
            "Requirement already satisfied: joblib>=0.11 in /usr/local/lib/python3.8/dist-packages (from scikit-learn>=0.21.3->seqeval->tf-models-official) (1.2.0)\n",
            "Requirement already satisfied: typeguard>=2.7 in /usr/local/lib/python3.8/dist-packages (from tensorflow-addons->tf-models-official) (2.7.1)\n",
            "Requirement already satisfied: toml in /usr/local/lib/python3.8/dist-packages (from tensorflow-datasets->tf-models-official) (0.10.2)\n",
            "Requirement already satisfied: tensorflow-metadata in /usr/local/lib/python3.8/dist-packages (from tensorflow-datasets->tf-models-official) (1.12.0)\n",
            "Requirement already satisfied: promise in /usr/local/lib/python3.8/dist-packages (from tensorflow-datasets->tf-models-official) (2.3)\n",
            "Requirement already satisfied: importlib-resources in /usr/local/lib/python3.8/dist-packages (from tensorflow-datasets->tf-models-official) (5.10.1)\n",
            "Requirement already satisfied: dill in /usr/local/lib/python3.8/dist-packages (from tensorflow-datasets->tf-models-official) (0.3.6)\n",
            "Requirement already satisfied: etils[epath] in /usr/local/lib/python3.8/dist-packages (from tensorflow-datasets->tf-models-official) (0.9.0)\n",
            "Building wheels for collected packages: seqeval\n",
            "  Building wheel for seqeval (setup.py) ... \u001b[?25l\u001b[?25hdone\n",
            "  Created wheel for seqeval: filename=seqeval-1.2.2-py3-none-any.whl size=16179 sha256=2f7781223b6e292be15e7b841adf42871d8fb96cbeca56c8204eac52ba74ae13\n",
            "  Stored in directory: /root/.cache/pip/wheels/ad/5c/ba/05fa33fa5855777b7d686e843ec07452f22a66a138e290e732\n",
            "Successfully built seqeval\n",
            "Installing collected packages: tensorflow-estimator, tensorboard, keras, flatbuffers, tensorflow, portalocker, colorama, tf-slim, tensorflow-text, tensorflow-model-optimization, tensorflow-addons, seqeval, sentencepiece, sacrebleu, pyyaml, py-cpuinfo, immutabledict, tf-models-official\n",
            "  Attempting uninstall: tensorflow-estimator\n",
            "    Found existing installation: tensorflow-estimator 2.9.0\n",
            "    Uninstalling tensorflow-estimator-2.9.0:\n",
            "      Successfully uninstalled tensorflow-estimator-2.9.0\n",
            "  Attempting uninstall: tensorboard\n",
            "    Found existing installation: tensorboard 2.9.1\n",
            "    Uninstalling tensorboard-2.9.1:\n",
            "      Successfully uninstalled tensorboard-2.9.1\n",
            "  Attempting uninstall: keras\n",
            "    Found existing installation: keras 2.9.0\n",
            "    Uninstalling keras-2.9.0:\n",
            "      Successfully uninstalled keras-2.9.0\n",
            "  Attempting uninstall: flatbuffers\n",
            "    Found existing installation: flatbuffers 1.12\n",
            "    Uninstalling flatbuffers-1.12:\n",
            "      Successfully uninstalled flatbuffers-1.12\n",
            "  Attempting uninstall: tensorflow\n",
            "    Found existing installation: tensorflow 2.9.2\n",
            "    Uninstalling tensorflow-2.9.2:\n",
            "      Successfully uninstalled tensorflow-2.9.2\n",
            "  Attempting uninstall: pyyaml\n",
            "    Found existing installation: PyYAML 6.0\n",
            "    Uninstalling PyYAML-6.0:\n",
            "      Successfully uninstalled PyYAML-6.0\n",
            "Successfully installed colorama-0.4.6 flatbuffers-22.12.6 immutabledict-2.2.3 keras-2.11.0 portalocker-2.6.0 py-cpuinfo-9.0.0 pyyaml-5.4.1 sacrebleu-2.3.1 sentencepiece-0.1.97 seqeval-1.2.2 tensorboard-2.11.0 tensorflow-2.11.0 tensorflow-addons-0.19.0 tensorflow-estimator-2.11.0 tensorflow-model-optimization-0.7.3 tensorflow-text-2.11.0 tf-models-official-2.11.2 tf-slim-1.1.0\n"
          ]
        }
      ]
    },
    {
      "cell_type": "code",
      "source": [
        "import json\n",
        "import pandas as pd\n",
        "import os\n",
        "import shutil\n",
        "\n",
        "import numpy as np\n",
        "import pathlib\n",
        "import os\n",
        "import random\n",
        "import datetime\n",
        "from FrameGenerator import FrameGenerator\n",
        "import cv2\n",
        "import tensorflow as tf\n",
        "import tensorflow_hub as hub\n",
        "from CustomMovinet import CustomModel\n",
        "from official.projects.movinet.modeling import movinet\n",
        "from official.projects.movinet.modeling import movinet_model\n",
        "from PlotLearning import *"
      ],
      "metadata": {
        "id": "jVL_O76cinaS"
      },
      "execution_count": 4,
      "outputs": []
    },
    {
      "cell_type": "code",
      "source": [
        "print(\"Num GPUs Available: \", len(tf.config.list_physical_devices('GPU')))\n"
      ],
      "metadata": {
        "colab": {
          "base_uri": "https://localhost:8080/"
        },
        "id": "oQaj1xfQoTLR",
        "outputId": "44874925-0ed9-4106-fe1f-e0b1f828ea09"
      },
      "execution_count": 5,
      "outputs": [
        {
          "output_type": "stream",
          "name": "stdout",
          "text": [
            "Num GPUs Available:  0\n"
          ]
        }
      ]
    },
    {
      "cell_type": "code",
      "source": [
        "def get_metadata(file):\n",
        "    \n",
        "    \"\"\" Creates dataframe from the json file containing video info and labels.\n",
        "    \n",
        "        Args:\n",
        "            file: filename and path to the json.\n",
        "\n",
        "        Return:\n",
        "            A formatted pandas dataframe of the json file.\n",
        "    \"\"\"\n",
        "    \n",
        "    # read and load json file from specified path\n",
        "    with open(file, 'r') as data_file:\n",
        "        instance_json = json.load(data_file)\n",
        "\n",
        "    # convert json format to readable pandas df\n",
        "    metadata = pd.DataFrame()\n",
        "    for i in range(0, len(instance_json)):\n",
        "\n",
        "        label_ins = instance_json[i]\n",
        "        gloss = label_ins['gloss']\n",
        "\n",
        "        for i in range(0, len(label_ins['instances'])):\n",
        "\n",
        "            label_ins['instances'][i]['gloss'] = gloss\n",
        "            frame = pd.Series(label_ins['instances'][i]).to_frame().T\n",
        "            metadata = pd.concat([metadata, frame])\n",
        "\n",
        "    return metadata\n",
        "\n",
        "\n",
        "\n",
        "def create_gloss_variations(df):\n",
        "    # combine gloss and variation id columns\n",
        "    df['gloss'] = df['gloss'] + df['variation_id'].astype(str)\n",
        "    return df\n",
        "\n",
        "\n",
        "\n",
        "def convert_sample_type(df, og_split = 'test', tgt_split = 'train'):\n",
        "    # reassign test samples to train\n",
        "    df['split'] = df['split'].replace({og_split: tgt_split})\n",
        "    return df\n",
        "\n",
        "\n",
        "def videos_to_folders(df, to_folder='data', type='copy', prototype=True):\n",
        "\n",
        "    if prototype:\n",
        "        df = df[df['gloss'].isin(['hello0', 'love0', 'thank you0'])]\n",
        "\n",
        "    paths = df[['split', 'gloss']].drop_duplicates()#.apply(lambda row: os.path.join(*row), axis=1)\n",
        "    for s, g in zip(paths['split'], paths['gloss']):\n",
        "        move_to = os.path.join(to_folder, s, g)\n",
        "        if not os.path.exists(move_to):\n",
        "            os.makedirs(move_to)\n",
        "\n",
        "        vid_ids = df[(df['split'] == s) & (df['gloss'] == g)]['video_id']\n",
        "        for id in vid_ids:\n",
        "            vid = os.path.join('videos', str(id)) + '.mp4'\n",
        "            if os.path.exists(vid):\n",
        "                if type == 'move':\n",
        "                    move = shutil.move(vid, move_to)\n",
        "                elif type == 'copy':\n",
        "                    move = shutil.copy(vid, move_to)\n",
        "                else:\n",
        "                    raise Exception(\"Arg 'type' must be set to 'move or 'copy'\")      \n",
        "            else:\n",
        "                print(\"Video file missing: \", vid)\n"
      ],
      "metadata": {
        "id": "QxdY9NgXmG7v"
      },
      "execution_count": 6,
      "outputs": []
    },
    {
      "cell_type": "code",
      "source": [
        "file = 'labels/WLASL_v0.3.json'\n",
        "print('Getting metadata....')\n",
        "metadata = get_metadata(file)\n",
        "print('Creating gloss variations....')\n",
        "gloss_variations = create_gloss_variations(metadata)\n",
        "print('Converting sample types....')\n",
        "sample_type = convert_sample_type(gloss_variations)\n",
        "print('Moving videos to folders....')\n",
        "to_folders = videos_to_folders(sample_type, type='move', prototype=True)\n"
      ],
      "metadata": {
        "id": "U1hTeYi8mhEu",
        "colab": {
          "base_uri": "https://localhost:8080/"
        },
        "outputId": "d3b4c3b7-f503-4bb8-b1da-daf92944748e"
      },
      "execution_count": 7,
      "outputs": [
        {
          "output_type": "stream",
          "name": "stdout",
          "text": [
            "Getting metadata....\n",
            "Creating gloss variations....\n",
            "Converting sample types....\n",
            "Moving videos to folders....\n"
          ]
        }
      ]
    },
    {
      "cell_type": "code",
      "source": [
        "data_path='data'\n",
        "num_frames=8\n",
        "model_id='a0'\n",
        "batches = 8"
      ],
      "metadata": {
        "id": "YLwD3IGfn2Lq"
      },
      "execution_count": 10,
      "outputs": []
    },
    {
      "cell_type": "code",
      "source": [
        "#actions = np.array(['hello', 'love', 'thank you'])\n",
        "#splits = metadata['split'].unique()\n",
        "\n",
        "if not os.path.exists(data_path):\n",
        "    raise Exception('Data path does not exist. Run preprocess.py')\n",
        "\n",
        "subset_paths = {\n",
        "    'train': pathlib.Path(os.path.join(data_path, 'train')),\n",
        "    'val': pathlib.Path(os.path.join(data_path, 'val'))\n",
        "}\n",
        "\n",
        "num_classes = len(next(os.walk(subset_paths['train']))[1])\n",
        "\n",
        "output_signature = (\n",
        "    tf.TensorSpec(shape = (None, None, None, 3), dtype = tf.float32),\n",
        "    tf.TensorSpec(shape = (None,), dtype = tf.uint8)\n",
        ")\n",
        "\n",
        "train_ds = tf.data.Dataset.from_generator(\n",
        "    FrameGenerator(subset_paths['train'], num_frames),\n",
        "    output_signature = output_signature\n",
        ")\n",
        "\n",
        "# Create the validation set\n",
        "val_ds = tf.data.Dataset.from_generator(\n",
        "    FrameGenerator(subset_paths['val'], num_frames),\n",
        "    output_signature = output_signature\n",
        ")\n",
        "\n",
        "train_ds = train_ds.cache().shuffle(1000).prefetch(buffer_size = tf.data.AUTOTUNE)\n",
        "val_ds = val_ds.cache().shuffle(1000).prefetch(buffer_size = tf.data.AUTOTUNE)\n",
        "\n",
        "train_ds = train_ds.batch(batches)\n",
        "val_ds = val_ds.batch(batches)\n",
        "\n",
        "train_ds_len = len(list(subset_paths[\"train\"].glob('*/*.mp4')))\n",
        "val_ds_len = len(list(subset_paths[\"val\"].glob('*/*.mp4')))"
      ],
      "metadata": {
        "id": "qZQrKfOcn6I9"
      },
      "execution_count": 53,
      "outputs": []
    },
    {
      "cell_type": "code",
      "source": [
        "# Create backbone and model\n",
        "use_positional_encoding = model_id in {'a3', 'a4', 'a5'}\n",
        "backbone = movinet.Movinet(\n",
        "    model_id=model_id,\n",
        "    causal=True,\n",
        "    conv_type='2plus1d',\n",
        "    se_type='2plus3d',\n",
        "    activation='hard_swish',\n",
        "    gating_activation='hard_sigmoid',\n",
        "    use_positional_encoding=use_positional_encoding,\n",
        "    use_external_states=False\n",
        ")\n",
        "\n",
        "# # Create a movinet classifier using this backbone.\n",
        "# model = movinet_model.MovinetClassifier(\n",
        "# \tbackbone,\n",
        "# \tnum_classes=600,\n",
        "# \toutput_states=True)\n",
        "\n",
        "model = movinet_model.MovinetClassifier(\n",
        "    backbone=backbone,\n",
        "    num_classes=3,\n",
        "    output_states=True\n",
        ")\n"
      ],
      "metadata": {
        "id": "sT2GJrS5oETv"
      },
      "execution_count": 54,
      "outputs": []
    },
    {
      "cell_type": "code",
      "source": [
        "#movinet_hub_url = f'https://tfhub.dev/tensorflow/movinet/{model_id}/stream/kinetics-600/classification/3'\n",
        "movinet_hub_path = f'movinet_a0_stream_kinetics-600_classification_3'\n",
        "\n",
        "movinet_hub_model = hub.KerasLayer(movinet_hub_path, trainable=True)"
      ],
      "metadata": {
        "colab": {
          "base_uri": "https://localhost:8080/"
        },
        "id": "K6szeU-1oI52",
        "outputId": "36ffe973-640c-46d4-8876-52a1c03b87fb"
      },
      "execution_count": 55,
      "outputs": [
        {
          "output_type": "stream",
          "name": "stderr",
          "text": [
            "WARNING:tensorflow:Please fix your imports. Module tensorflow.python.training.tracking.data_structures has been moved to tensorflow.python.trackable.data_structures. The old module will be deleted in version 2.11.\n"
          ]
        }
      ]
    },
    {
      "cell_type": "code",
      "source": [
        "# Input layer for the frame sequence\n",
        "image_input = tf.keras.layers.Input(\n",
        "    shape=[None, None, None, 3],\n",
        "    dtype=tf.float32,\n",
        "    name='image'\n",
        ")\n",
        "\n",
        "# Input layers for the different model states.\n",
        "init_states_fn = movinet_hub_model.resolved_object.signatures['init_states']\n",
        "\n",
        "state_shapes = {\n",
        "    name: ([s if s > 0 else None for s in state.shape], state.dtype)\n",
        "    for name, state in init_states_fn(tf.constant([0, 0, 0, 0, 3])).items()\n",
        "}\n",
        "\n",
        "states_input = {\n",
        "    name: tf.keras.Input(shape[1:], dtype=dtype, name=name)\n",
        "    for name, (shape, dtype) in state_shapes.items()\n",
        "}\n",
        "\n",
        "# Wrap the Movinet model in a Keras model so that it can be finetuned.\n",
        "\n",
        "inputs = {**states_input, 'image': image_input}\n",
        "\n",
        "outputs = model(inputs)\n",
        "\n",
        "model = CustomModel(inputs, outputs, name='movinet')\n",
        "\n",
        "for layer in model.layers[:-1]:\n",
        "    layer.trainable = False\n",
        "model.layers[-1].trainable = True\n",
        "\n",
        "init_states = init_states_fn(tf.shape(tf.ones([batches, num_frames, 172, 172, 3])))\n",
        "\n",
        "\n",
        "\n",
        "def add_states(video, label, stream_states=init_states):\n",
        "    return ({**stream_states, \"image\": video} , label)\n",
        "\n",
        "\n",
        "\n",
        "train = train_ds.map(add_states)\n",
        "val = val_ds.map(add_states)\n",
        "\n",
        "num_epochs = 1000\n",
        "\n",
        "train_steps = train_ds_len // batches\n",
        "total_train_steps = train_steps * num_epochs\n",
        "test_steps = (val_ds_len // batches) or 1\n",
        "\n",
        "loss_obj = tf.keras.losses.CategoricalCrossentropy(\n",
        "    from_logits=True,\n",
        "    label_smoothing=0.1\n",
        ")\n",
        "\n",
        "metrics = [\n",
        "    tf.keras.metrics.TopKCategoricalAccuracy(\n",
        "        k=1, name='top_1', dtype=tf.float32\n",
        "        ),\n",
        "    tf.keras.metrics.TopKCategoricalAccuracy(\n",
        "        k=3, name='top_3', dtype=tf.float32\n",
        "        ),\n",
        "]\n",
        "\n",
        "initial_learning_rate = 0.01\n",
        "learning_rate = tf.keras.optimizers.schedules.CosineDecay(\n",
        "    initial_learning_rate, decay_steps=total_train_steps,\n",
        ")\n",
        "\n",
        "optimizer = tf.keras.optimizers.RMSprop(\n",
        "    learning_rate, rho=0.9, momentum=0.9, epsilon=1.0, clipnorm=1.0)\n",
        "\n",
        "#model.compile(loss=loss_obj, optimizer=tf.keras.optimizers.Adam(), metrics=metrics)\n",
        "model.compile(loss=loss_obj, optimizer=optimizer, metrics=metrics)\n",
        "\n",
        "checkpoint_filepath = \"train/movinet_checkpoints_stream\"\n",
        "\n",
        "model_checkpoint_callback = tf.keras.callbacks.ModelCheckpoint(\n",
        "    filepath=checkpoint_filepath,\n",
        "    save_weights_only=True,\n",
        "    monitor='val_top_3',\n",
        "    mode='max',\n",
        "    save_best_only=True\n",
        ")\n",
        "\n",
        "logdir = \"logs/\" + datetime.datetime.now().strftime(\"%Y%m%d-%H%M%S\")\n",
        "#tensorboard --logdir=./notebooks/logs\n",
        "\n",
        "callbacks = [\n",
        "    tf.keras.callbacks.TensorBoard(log_dir=logdir),\n",
        "    #model_checkpoint_callback,\n",
        "    #tf.keras.callbacks.EarlyStopping(monitor='val_top_3', patience=50),\n",
        "    PlotLearning()\n",
        "]\n"
      ],
      "metadata": {
        "id": "KP9psZC0oMOV"
      },
      "execution_count": 61,
      "outputs": []
    },
    {
      "cell_type": "code",
      "source": [
        "#train_dataset = train\n",
        "#valid_dataset = val\n",
        "\n",
        "#print(\"Beginning fit....\")\n",
        "with tf.device('/CPU:0'):\n",
        "    #results = model_wrapped.fit(\n",
        "    results = model.fit(\n",
        "    #results = model_movinet.fit(\n",
        "        train,\n",
        "        validation_data=val,\n",
        "        epochs=num_epochs,\n",
        "        steps_per_epoch=train_steps,\n",
        "        validation_steps=test_steps,\n",
        "        callbacks=callbacks,\n",
        "        validation_freq=1,\n",
        "        verbose=1\n",
        "    )\n"
      ],
      "metadata": {
        "id": "_WW-Svd3oY7I",
        "colab": {
          "base_uri": "https://localhost:8080/",
          "height": 354
        },
        "outputId": "d9679bdc-adbe-473d-b64d-34b67223d6d6"
      },
      "execution_count": 62,
      "outputs": [
        {
          "output_type": "display_data",
          "data": {
            "text/plain": [
              "<Figure size 1080x360 with 4 Axes>"
            ],
            "image/png": "[encoded data removed]"
          },
          "metadata": {
            "needs_background": "light"
          }
        },
        {
          "output_type": "stream",
          "name": "stdout",
          "text": [
            "\b\b\b\b\b\b\b\b\b\b\b\b\b\b\b\b\b\b\b\b\b\b\b\b\b\b\b\b\b\b\b\b\b\b\b\b\b\b\b\b\b\b\b\b\b\b\b\b\b\b\b\b\b\b\b\b\b\b\b\b\b\b\b\b\b\b\b\b\b\b\b\b\b\b\b\b\b\b\b\b\b\b\b\b\b\b\b\b\b\b\b\b\b\b\b\b\b\b\b\b\b\b\b\b\b\b\b\b\b\b\b\b\b\b\b\b\b\b\b\b\b\b\b\b\b\b\b\b\b\b\b\b\r4/4 [==============================] - 2s 367ms/step - loss: 0.9311 - movinet_loss: 0.9311 - movinet_top_1: 1.0000 - movinet_top_3: 1.0000 - val_loss: 1.9878 - val_movinet_loss: 1.9878 - val_movinet_top_1: 0.3333 - val_movinet_top_3: 1.0000\n"
          ]
        }
      ]
    },
    {
      "cell_type": "code",
      "source": [
        "model.save('models/movinet_aslt_prototype')"
      ],
      "metadata": {
        "id": "x-zXM10eocnu",
        "colab": {
          "base_uri": "https://localhost:8080/"
        },
        "outputId": "4b8aa924-71a3-4185-d16b-d94699a001de"
      },
      "execution_count": 15,
      "outputs": [
        {
          "output_type": "stream",
          "name": "stderr",
          "text": [
            "WARNING:tensorflow:Skipping full serialization of Keras layer <keras.layers.regularization.dropout.Dropout object at 0x7f95a5b69850>, because it is not built.\n",
            "WARNING:tensorflow:Skipping full serialization of Keras layer <official.vision.modeling.layers.nn_layers.TemporalSoftmaxPool object at 0x7f95a57492e0>, because it is not built.\n",
            "WARNING:absl:Function `_wrapped_model` contains input name(s) state/b0/l0/pool_buffer, state/b0/l0/pool_frame_count, state/b1/l0/pool_buffer, state/b1/l0/pool_frame_count, state/b1/l0/stream_buffer, state/b1/l1/pool_buffer, state/b1/l1/pool_frame_count, state/b1/l1/stream_buffer, state/b1/l2/pool_buffer, state/b1/l2/pool_frame_count, state/b1/l2/stream_buffer, state/b2/l0/pool_buffer, state/b2/l0/pool_frame_count, state/b2/l0/stream_buffer, state/b2/l1/pool_buffer, state/b2/l1/pool_frame_count, state/b2/l1/stream_buffer, state/b2/l2/pool_buffer, state/b2/l2/pool_frame_count, state/b2/l2/stream_buffer, state/b3/l0/pool_buffer, state/b3/l0/pool_frame_count, state/b3/l0/stream_buffer, state/b3/l1/pool_buffer, state/b3/l1/pool_frame_count, state/b3/l1/stream_buffer, state/b3/l2/pool_buffer, state/b3/l2/pool_frame_count, state/b3/l2/stream_buffer, state/b3/l3/pool_buffer, state/b3/l3/pool_frame_count, state/b3/l3/stream_buffer, state/b4/l0/pool_buffer, state/b4/l0/pool_frame_count, state/b4/l0/stream_buffer, state/b4/l1/pool_buffer, state/b4/l1/pool_frame_count, state/b4/l2/pool_buffer, state/b4/l2/pool_frame_count, state/b4/l3/pool_buffer, state/b4/l3/pool_frame_count, state/head/pool_buffer, state/head/pool_frame_count with unsupported characters which will be renamed to state_b0_l0_pool_buffer, state_b0_l0_pool_frame_count, state_b1_l0_pool_buffer, state_b1_l0_pool_frame_count, state_b1_l0_stream_buffer, state_b1_l1_pool_buffer, state_b1_l1_pool_frame_count, state_b1_l1_stream_buffer, state_b1_l2_pool_buffer, state_b1_l2_pool_frame_count, state_b1_l2_stream_buffer, state_b2_l0_pool_buffer, state_b2_l0_pool_frame_count, state_b2_l0_stream_buffer, state_b2_l1_pool_buffer, state_b2_l1_pool_frame_count, state_b2_l1_stream_buffer, state_b2_l2_pool_buffer, state_b2_l2_pool_frame_count, state_b2_l2_stream_buffer, state_b3_l0_pool_buffer, state_b3_l0_pool_frame_count, state_b3_l0_stream_buffer, state_b3_l1_pool_buffer, state_b3_l1_pool_frame_count, state_b3_l1_stream_buffer, state_b3_l2_pool_buffer, state_b3_l2_pool_frame_count, state_b3_l2_stream_buffer, state_b3_l3_pool_buffer, state_b3_l3_pool_frame_count, state_b3_l3_stream_buffer, state_b4_l0_pool_buffer, state_b4_l0_pool_frame_count, state_b4_l0_stream_buffer, state_b4_l1_pool_buffer, state_b4_l1_pool_frame_count, state_b4_l2_pool_buffer, state_b4_l2_pool_frame_count, state_b4_l3_pool_buffer, state_b4_l3_pool_frame_count, state_head_pool_buffer, state_head_pool_frame_count in the SavedModel.\n",
            "/usr/local/lib/python3.8/dist-packages/keras/engine/functional.py:638: UserWarning: Input dict contained keys ['state/b2/l1/stream_buffer', 'state/b3/l1/pool_buffer', 'state/b4/l1/pool_frame_count', 'state/b2/l0/pool_frame_count', 'state/b1/l2/pool_frame_count', 'state/b4/l0/pool_frame_count', 'state/b4/l2/pool_frame_count', 'state/b2/l0/pool_buffer', 'state/b2/l0/stream_buffer', 'state/b3/l2/pool_frame_count', 'state/b1/l2/pool_buffer', 'state/b3/l3/pool_buffer', 'state/b4/l0/pool_buffer', 'state/b4/l2/pool_buffer', 'state/b3/l0/pool_buffer', 'state/b3/l1/stream_buffer', 'state/b1/l0/pool_buffer', 'state/b3/l0/pool_frame_count', 'state/b1/l1/pool_frame_count', 'state/b3/l2/stream_buffer', 'state/b1/l0/pool_frame_count', 'state/b1/l0/stream_buffer', 'state/head/pool_buffer', 'state/b3/l3/pool_frame_count', 'state/b3/l1/pool_frame_count', 'state/b2/l1/pool_frame_count', 'state/b3/l0/stream_buffer', 'state/b3/l2/pool_buffer', 'state/b4/l3/pool_frame_count', 'state/b4/l3/pool_buffer', 'state/b0/l0/pool_buffer', 'state/b4/l1/pool_buffer', 'state/b2/l2/stream_buffer', 'state/b1/l1/pool_buffer', 'state/b3/l3/stream_buffer', 'state/b1/l2/stream_buffer', 'state/head/pool_frame_count', 'state/b2/l2/pool_frame_count', 'state/b1/l1/stream_buffer', 'state/b2/l1/pool_buffer', 'state/b4/l0/stream_buffer', 'state/b2/l2/pool_buffer', 'state/b0/l0/pool_frame_count'] which did not match any model input. They will be ignored by the model.\n",
            "  inputs = self._flatten_to_reference_inputs(inputs)\n",
            "/usr/local/lib/python3.8/dist-packages/keras/engine/functional.py:638: UserWarning: Input dict contained keys ['state/b2/l1/stream_buffer', 'state/b3/l1/pool_buffer', 'state/b4/l1/pool_frame_count', 'state/b2/l0/pool_frame_count', 'state/b1/l2/pool_frame_count', 'state/b4/l0/pool_frame_count', 'state/b4/l2/pool_frame_count', 'state/b2/l0/pool_buffer', 'state/b2/l0/stream_buffer', 'state/b3/l2/pool_frame_count', 'state/b1/l2/pool_buffer', 'state/b3/l3/pool_buffer', 'state/b4/l0/pool_buffer', 'state/b4/l2/pool_buffer', 'state/b3/l0/pool_buffer', 'state/b3/l1/stream_buffer', 'state/b1/l0/pool_buffer', 'state/b3/l0/pool_frame_count', 'state/b1/l1/pool_frame_count', 'state/b3/l2/stream_buffer', 'state/b1/l0/pool_frame_count', 'state/b1/l0/stream_buffer', 'state/head/pool_buffer', 'state/b3/l3/pool_frame_count', 'state/b3/l1/pool_frame_count', 'state/b2/l1/pool_frame_count', 'state/b3/l0/stream_buffer', 'state/b3/l2/pool_buffer', 'state/b4/l3/pool_frame_count', 'state/b4/l3/pool_buffer', 'state/b0/l0/pool_buffer', 'state/b4/l1/pool_buffer', 'state/b2/l2/stream_buffer', 'state/b1/l1/pool_buffer', 'state/b3/l3/stream_buffer', 'state/b1/l2/stream_buffer', 'state/head/pool_frame_count', 'state/b2/l2/pool_frame_count', 'state/b1/l1/stream_buffer', 'state/b2/l1/pool_buffer', 'state/b4/l0/stream_buffer', 'state/b2/l2/pool_buffer', 'state/b0/l0/pool_frame_count'] which did not match any model input. They will be ignored by the model.\n",
            "  inputs = self._flatten_to_reference_inputs(inputs)\n",
            "WARNING:absl:Found untraced functions such as init_states, _update_step_xla, head_layer_call_fn, head_layer_call_and_return_conditional_losses, classifier_layer_call_fn while saving (showing 5 of 980). These functions will not be directly callable after loading.\n"
          ]
        }
      ]
    },
    {
      "cell_type": "code",
      "source": [],
      "metadata": {
        "id": "RuXBM_Nw14rN"
      },
      "execution_count": null,
      "outputs": []
    }
  ]
}