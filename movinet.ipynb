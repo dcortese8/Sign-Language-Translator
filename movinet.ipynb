{
 "cells": [
  {
   "cell_type": "code",
   "execution_count": 5,
   "metadata": {},
   "outputs": [],
   "source": [
    "import tensorflow as tf\n",
    "import tensorflow_hub as hub\n",
    "\n",
    "hub_url = \"https://tfhub.dev/tensorflow/movinet/a3/base/kinetics-600/classification/3\"\n",
    "\n",
    "encoder = hub.KerasLayer(hub_url, trainable=False)\n",
    "\n",
    "inputs = tf.keras.layers.Input(shape=[None, None, None, 3], dtype=tf.float32, name='image')\n",
    "\n",
    "# [batch_size, 600]\n",
    "outputs = encoder(dict(image=inputs))\n",
    "\n",
    "base = tf.keras.Model(inputs, outputs, name='movinet')\n",
    "\n",
    "model = tf.keras.Sequential([\n",
    "  base,\n",
    "  tf.keras.layers.Dense(3)\n",
    "])\n",
    "\n",
    "#example_input = tf.ones([1, 12, 256, 256, 3])\n",
    "#example_output = model(example_input)\n",
    "\n",
    "#print(example_output)\n"
   ]
  },
  {
   "cell_type": "code",
   "execution_count": 6,
   "metadata": {},
   "outputs": [
    {
     "name": "stdout",
     "output_type": "stream",
     "text": [
      "Model: \"sequential_1\"\n",
      "_________________________________________________________________\n",
      " Layer (type)                Output Shape              Param #   \n",
      "=================================================================\n",
      " movinet (Functional)        (None, 600)               7443289   \n",
      "                                                                 \n",
      " dense_1 (Dense)             (None, 3)                 1803      \n",
      "                                                                 \n",
      "=================================================================\n",
      "Total params: 7,445,092\n",
      "Trainable params: 1,803\n",
      "Non-trainable params: 7,443,289\n",
      "_________________________________________________________________\n"
     ]
    }
   ],
   "source": [
    "model.summary()"
   ]
  },
  {
   "cell_type": "code",
   "execution_count": 7,
   "metadata": {},
   "outputs": [],
   "source": [
    "model.compile(optimizer='Adam', loss='categorical_crossentropy', metrics=['categorical_accuracy'])"
   ]
  },
  {
   "cell_type": "code",
   "execution_count": null,
   "metadata": {},
   "outputs": [],
   "source": [
    "model.fit()"
   ]
  },
  {
   "cell_type": "code",
   "execution_count": null,
   "metadata": {},
   "outputs": [],
   "source": []
  }
 ],
 "metadata": {
  "kernelspec": {
   "display_name": "Python 3.8.10 ('venv': venv)",
   "language": "python",
   "name": "python3"
  },
  "language_info": {
   "codemirror_mode": {
    "name": "ipython",
    "version": 3
   },
   "file_extension": ".py",
   "mimetype": "text/x-python",
   "name": "python",
   "nbconvert_exporter": "python",
   "pygments_lexer": "ipython3",
   "version": "3.8.10"
  },
  "orig_nbformat": 4,
  "vscode": {
   "interpreter": {
    "hash": "fea2f75e32e174d7ae5c5f56d5e78c273eabdf215c4982af77b58664ffedf85f"
   }
  }
 },
 "nbformat": 4,
 "nbformat_minor": 2
}
