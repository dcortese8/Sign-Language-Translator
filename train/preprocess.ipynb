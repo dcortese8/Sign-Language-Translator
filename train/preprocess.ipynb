{
 "cells": [
  {
   "cell_type": "code",
   "execution_count": 1,
   "metadata": {},
   "outputs": [],
   "source": [
    "import json\n",
    "import pandas as pd\n",
    "import os\n",
    "import shutil"
   ]
  },
  {
   "cell_type": "code",
   "execution_count": 2,
   "metadata": {},
   "outputs": [],
   "source": [
    "\n",
    "def get_metadata(file):\n",
    "    \n",
    "    \"\"\" Creates dataframe from the json file containing video info and labels.\n",
    "    \n",
    "        Args:\n",
    "            file: filename and path to the json.\n",
    "\n",
    "        Return:\n",
    "            A formatted pandas dataframe of the json file.\n",
    "    \"\"\"\n",
    "    \n",
    "    # read and load json file from specified path\n",
    "    with open(file, 'r') as data_file:\n",
    "        instance_json = json.load(data_file)\n",
    "\n",
    "    # convert json format to readable pandas df\n",
    "    metadata = pd.DataFrame()\n",
    "    for i in range(0, len(instance_json)):\n",
    "\n",
    "        label_ins = instance_json[i]\n",
    "        gloss = label_ins['gloss']\n",
    "\n",
    "        for i in range(0, len(label_ins['instances'])):\n",
    "\n",
    "            label_ins['instances'][i]['gloss'] = gloss\n",
    "            frame = pd.Series(label_ins['instances'][i]).to_frame().T\n",
    "            metadata = pd.concat([metadata, frame])\n",
    "\n",
    "    return metadata\n",
    "\n",
    "\n",
    "\n",
    "def create_gloss_variations(df):\n",
    "    # combine gloss and variation id columns\n",
    "    df['gloss'] = df['gloss'] + df['variation_id'].astype(str)\n",
    "    return df\n",
    "\n",
    "\n",
    "\n",
    "def convert_sample_type(df, og_split = 'test', tgt_split = 'train'):\n",
    "    # reassign test samples to train\n",
    "    df['split'] = df['split'].replace({og_split: tgt_split})\n",
    "    return df\n",
    "\n",
    "\n",
    "def videos_to_folders(df, to_folder='data', type='copy', prototype=True):\n",
    "\n",
    "    if prototype:\n",
    "        df = df[df['gloss'].isin(['hello0', 'love0', 'thank you0'])]\n",
    "\n",
    "    paths = df[['split', 'gloss']].drop_duplicates()#.apply(lambda row: os.path.join(*row), axis=1)\n",
    "    for s, g in zip(paths['split'], paths['gloss']):\n",
    "        move_to = os.path.join(to_folder, s, g)\n",
    "        if not os.path.exists(move_to):\n",
    "            os.makedirs(move_to)\n",
    "\n",
    "        vid_ids = df[(df['split'] == s) & (df['gloss'] == g)]['video_id']\n",
    "        for id in vid_ids:\n",
    "            vid = os.path.join('videos', str(id)) + '.mp4'\n",
    "            if os.path.exists(vid):\n",
    "                if type == 'move':\n",
    "                    move = shutil.move(vid, move_to)\n",
    "                elif type == 'copy':\n",
    "                    move = shutil.copy(vid, move_to)\n",
    "                else:\n",
    "                    raise Exception(\"Arg 'type' must be set to 'move or 'copy'\")      \n",
    "            else:\n",
    "                print(\"Video file missing: \", vid)\n",
    "        \n",
    "\n",
    "\n",
    "\n",
    "\n",
    "def preprocess(file):\n",
    "\n",
    "    print('Getting metadata....')\n",
    "    metadata = get_metadata(file)\n",
    "    print('Creating gloss variations....')\n",
    "    gloss_variations = create_gloss_variations(metadata)\n",
    "    print('Converting sample types....')\n",
    "    sample_type = convert_sample_type(gloss_variations)\n",
    "    print('Moving videos to folders....')\n",
    "    to_folders = videos_to_folders(sample_type, type='move', prototype=False)\n"
   ]
  },
  {
   "cell_type": "code",
   "execution_count": 3,
   "metadata": {},
   "outputs": [
    {
     "name": "stdout",
     "output_type": "stream",
     "text": [
      "Getting metadata....\n",
      "Creating gloss variations....\n",
      "Converting sample types....\n",
      "Moving videos to folders....\n"
     ]
    }
   ],
   "source": [
    "file = 'labels/WLASL_v0.3.json'\n",
    "preprocess(file)"
   ]
  },
  {
   "cell_type": "code",
   "execution_count": null,
   "metadata": {},
   "outputs": [],
   "source": []
  }
 ],
 "metadata": {
  "kernelspec": {
   "display_name": "Python 3.10.6 (conda)",
   "language": "python",
   "name": "python3"
  },
  "language_info": {
   "codemirror_mode": {
    "name": "ipython",
    "version": 3
   },
   "file_extension": ".py",
   "mimetype": "text/x-python",
   "name": "python",
   "nbconvert_exporter": "python",
   "pygments_lexer": "ipython3",
   "version": "3.10.6"
  },
  "vscode": {
   "interpreter": {
    "hash": "f9da8ae38c124c50f56a650889d1cc90d289f06cd51de9c7372ce6b8b14997e4"
   }
  }
 },
 "nbformat": 4,
 "nbformat_minor": 2
}
